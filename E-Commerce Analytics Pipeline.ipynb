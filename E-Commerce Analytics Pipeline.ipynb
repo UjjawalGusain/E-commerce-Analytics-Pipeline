{
 "cells": [
  {
   "cell_type": "code",
   "execution_count": 0,
   "metadata": {
    "application/vnd.databricks.v1+cell": {
     "cellMetadata": {
      "byteLimit": 2048000,
      "rowLimit": 10000
     },
     "inputWidgets": {},
     "nuid": "2cd87bea-3e7e-4df8-938f-e6470c753482",
     "showTitle": false,
     "tableResultSettingsMap": {},
     "title": ""
    }
   },
   "outputs": [
    {
     "output_type": "display_data",
     "data": {
      "text/html": [
       "<style scoped>\n",
       "  .table-result-container {\n",
       "    max-height: 300px;\n",
       "    overflow: auto;\n",
       "  }\n",
       "  table, th, td {\n",
       "    border: 1px solid black;\n",
       "    border-collapse: collapse;\n",
       "  }\n",
       "  th, td {\n",
       "    padding: 5px;\n",
       "  }\n",
       "  th {\n",
       "    text-align: left;\n",
       "  }\n",
       "</style><div class='table-result-container'><table class='table-result'><thead style='background-color: white'><tr><th>catalog</th></tr></thead><tbody><tr><td>samples</td></tr><tr><td>system</td></tr><tr><td>workspace</td></tr></tbody></table></div>"
      ]
     },
     "metadata": {
      "application/vnd.databricks.v1+output": {
       "addedWidgets": {},
       "aggData": [],
       "aggError": "",
       "aggOverflow": false,
       "aggSchema": [],
       "aggSeriesLimitReached": false,
       "aggType": "",
       "arguments": {},
       "columnCustomDisplayInfos": {},
       "data": [
        [
         "samples"
        ],
        [
         "system"
        ],
        [
         "workspace"
        ]
       ],
       "datasetInfos": [
        {
         "name": "_sqldf",
         "schema": {
          "fields": [
           {
            "metadata": {},
            "name": "catalog",
            "nullable": false,
            "type": "string"
           }
          ],
          "type": "struct"
         },
         "tableIdentifier": null,
         "typeStr": "pyspark.sql.connect.dataframe.DataFrame"
        }
       ],
       "dbfsResultPath": null,
       "isJsonSchema": true,
       "metadata": {
        "createTempViewForImplicitDf": true,
        "dataframeName": "_sqldf",
        "executionCount": 111
       },
       "overflow": false,
       "plotOptions": {
        "customPlotOptions": {},
        "displayType": "table",
        "pivotAggregation": null,
        "pivotColumns": null,
        "xColumns": null,
        "yColumns": null
       },
       "removedWidgets": [],
       "schema": [
        {
         "metadata": "{}",
         "name": "catalog",
         "type": "\"string\""
        }
       ],
       "type": "table"
      }
     },
     "output_type": "display_data"
    }
   ],
   "source": [
    "show catalogs;"
   ]
  },
  {
   "cell_type": "code",
   "execution_count": 0,
   "metadata": {
    "application/vnd.databricks.v1+cell": {
     "cellMetadata": {
      "byteLimit": 2048000,
      "rowLimit": 10000
     },
     "inputWidgets": {},
     "nuid": "69a3b32c-57f7-4da4-b10b-936f909b6466",
     "showTitle": false,
     "tableResultSettingsMap": {},
     "title": ""
    }
   },
   "outputs": [],
   "source": [
    "CREATE VOLUME IF NOT EXISTS workspace.default.my_volume;"
   ]
  },
  {
   "cell_type": "code",
   "execution_count": 0,
   "metadata": {
    "application/vnd.databricks.v1+cell": {
     "cellMetadata": {
      "byteLimit": 2048000,
      "rowLimit": 10000
     },
     "inputWidgets": {},
     "nuid": "265d6a94-f4ff-4448-8eb6-d0736308ffac",
     "showTitle": false,
     "tableResultSettingsMap": {},
     "title": ""
    }
   },
   "outputs": [],
   "source": [
    "%python\n",
    "from pyspark.sql.functions import to_date, from_unixtime\n",
    "\n",
    "df = spark.read.option(\"header\", True) \\\n",
    "               .option(\"inferSchema\", True) \\\n",
    "               .option(\"nullValue\", \"\") \\\n",
    "               .csv(\"/Volumes/workspace/default/my_volume/events.csv\")"
   ]
  },
  {
   "cell_type": "code",
   "execution_count": 0,
   "metadata": {
    "application/vnd.databricks.v1+cell": {
     "cellMetadata": {
      "byteLimit": 2048000,
      "rowLimit": 10000
     },
     "inputWidgets": {},
     "nuid": "b945b9f8-b114-4f8e-b2c2-5c1e74a1532c",
     "showTitle": false,
     "tableResultSettingsMap": {},
     "title": ""
    }
   },
   "outputs": [],
   "source": [
    "%python\n",
    "from pyspark.sql.functions import col\n",
    "\n",
    "df = df.filter(\n",
    "    (col(\"timestamp\").cast(\"long\").isNotNull()) &\n",
    "    (col(\"timestamp\").cast(\"long\") > 1000000000000)\n",
    ")\n",
    "\n",
    "df = df.withColumn(\n",
    "    \"event_date\",\n",
    "    to_date(from_unixtime(col(\"timestamp\").cast(\"long\") / 1000))\n",
    ")"
   ]
  },
  {
   "cell_type": "code",
   "execution_count": 0,
   "metadata": {
    "application/vnd.databricks.v1+cell": {
     "cellMetadata": {
      "byteLimit": 2048000,
      "rowLimit": 10000
     },
     "inputWidgets": {},
     "nuid": "787bc4b7-f698-45ca-81ae-c5474fa82828",
     "showTitle": false,
     "tableResultSettingsMap": {},
     "title": ""
    }
   },
   "outputs": [],
   "source": [
    "%python\n",
    "df.createOrReplaceTempView(\"events_staging\")"
   ]
  },
  {
   "cell_type": "markdown",
   "metadata": {
    "application/vnd.databricks.v1+cell": {
     "cellMetadata": {},
     "inputWidgets": {},
     "nuid": "030fdd1c-d825-4471-a934-1696bc27861c",
     "showTitle": false,
     "tableResultSettingsMap": {},
     "title": ""
    }
   },
   "source": [
    "## Static Files Loading"
   ]
  },
  {
   "cell_type": "code",
   "execution_count": 0,
   "metadata": {
    "application/vnd.databricks.v1+cell": {
     "cellMetadata": {
      "byteLimit": 2048000,
      "rowLimit": 10000
     },
     "inputWidgets": {},
     "nuid": "57f3b48a-4734-46fd-8c12-a660d500ac5f",
     "showTitle": false,
     "tableResultSettingsMap": {},
     "title": ""
    }
   },
   "outputs": [],
   "source": [
    "%python\n",
    "df_items_1 = spark.read.option(\"header\", True).csv(\"/Volumes/workspace/default/my_volume/item_properties_part1.csv\")\n",
    "df_items_1 = df_items_1.withColumn(\"itemid\", col(\"itemid\").cast(\"int\")) \\\n",
    "                        .withColumn(\"timestamp\", col(\"timestamp\").cast(\"bigint\"))\n",
    "df_items_1.createOrReplaceTempView(\"items_staging_1\")\n",
    "\n",
    "df_items_2 = spark.read.option(\"header\", True).csv(\"/Volumes/workspace/default/my_volume/item_properties_part2.csv\")\n",
    "df_items_2 = df_items_2.withColumn(\"itemid\", col(\"itemid\").cast(\"int\")) \\\n",
    "                        .withColumn(\"timestamp\", col(\"timestamp\").cast(\"bigint\"))\n",
    "df_items_2.createOrReplaceTempView(\"items_staging_2\")\n",
    "\n",
    "df_category = spark.read.option(\"header\", True).csv(\"/Volumes/workspace/default/my_volume/category_tree.csv\")\n",
    "df_category = df_category.withColumn(\"categoryid\", col(\"categoryid\").cast(\"int\")) \\\n",
    "                         .withColumn(\"parentid\", col(\"parentid\").cast(\"int\"))\n",
    "df_category.createOrReplaceTempView(\"items_category\")"
   ]
  },
  {
   "cell_type": "markdown",
   "metadata": {
    "application/vnd.databricks.v1+cell": {
     "cellMetadata": {},
     "inputWidgets": {},
     "nuid": "e40ebc77-7e90-4dd3-823c-e02a987dd488",
     "showTitle": false,
     "tableResultSettingsMap": {},
     "title": ""
    }
   },
   "source": [
    "## Dimensional tables"
   ]
  },
  {
   "cell_type": "code",
   "execution_count": 0,
   "metadata": {
    "application/vnd.databricks.v1+cell": {
     "cellMetadata": {},
     "inputWidgets": {},
     "nuid": "136fd3f0-d63f-4b0c-93ec-9ff6f29e8097",
     "showTitle": false,
     "tableResultSettingsMap": {},
     "title": ""
    }
   },
   "outputs": [],
   "source": [
    "%python\n",
    "print(\"Dim table creation starts\")"
   ]
  },
  {
   "cell_type": "code",
   "execution_count": 0,
   "metadata": {
    "application/vnd.databricks.v1+cell": {
     "cellMetadata": {
      "byteLimit": 2048000,
      "rowLimit": 10000
     },
     "inputWidgets": {},
     "nuid": "5f55c463-ce44-4105-8dbb-06da8c94a631",
     "showTitle": false,
     "tableResultSettingsMap": {},
     "title": ""
    }
   },
   "outputs": [
    {
     "output_type": "display_data",
     "data": {
      "text/html": [
       "<style scoped>\n",
       "  .table-result-container {\n",
       "    max-height: 300px;\n",
       "    overflow: auto;\n",
       "  }\n",
       "  table, th, td {\n",
       "    border: 1px solid black;\n",
       "    border-collapse: collapse;\n",
       "  }\n",
       "  th, td {\n",
       "    padding: 5px;\n",
       "  }\n",
       "  th {\n",
       "    text-align: left;\n",
       "  }\n",
       "</style><div class='table-result-container'><table class='table-result'><thead style='background-color: white'><tr><th>num_affected_rows</th><th>num_inserted_rows</th></tr></thead><tbody></tbody></table></div>"
      ]
     },
     "metadata": {
      "application/vnd.databricks.v1+output": {
       "addedWidgets": {},
       "aggData": [],
       "aggError": "",
       "aggOverflow": false,
       "aggSchema": [],
       "aggSeriesLimitReached": false,
       "aggType": "",
       "arguments": {},
       "columnCustomDisplayInfos": {},
       "data": [],
       "datasetInfos": [
        {
         "name": "_sqldf",
         "schema": {
          "fields": [
           {
            "metadata": {},
            "name": "num_affected_rows",
            "nullable": true,
            "type": "long"
           },
           {
            "metadata": {},
            "name": "num_inserted_rows",
            "nullable": true,
            "type": "long"
           }
          ],
          "type": "struct"
         },
         "tableIdentifier": null,
         "typeStr": "pyspark.sql.connect.dataframe.DataFrame"
        }
       ],
       "dbfsResultPath": null,
       "isJsonSchema": true,
       "metadata": {
        "createTempViewForImplicitDf": true,
        "dataframeName": "_sqldf",
        "executionCount": 121
       },
       "overflow": false,
       "plotOptions": {
        "customPlotOptions": {},
        "displayType": "table",
        "pivotAggregation": null,
        "pivotColumns": null,
        "xColumns": null,
        "yColumns": null
       },
       "removedWidgets": [],
       "schema": [
        {
         "metadata": "{}",
         "name": "num_affected_rows",
         "type": "\"long\""
        },
        {
         "metadata": "{}",
         "name": "num_inserted_rows",
         "type": "\"long\""
        }
       ],
       "type": "table"
      }
     },
     "output_type": "display_data"
    }
   ],
   "source": [
    "CREATE OR REPLACE TABLE workspace.default.dim_item AS\n",
    "SELECT\n",
    "    ROW_NUMBER() OVER (ORDER BY itemid) AS item_sk,\n",
    "    itemid\n",
    "FROM (\n",
    "    SELECT DISTINCT itemid FROM events_staging\n",
    "    WHERE itemid IS NOT NULL\n",
    ");\n"
   ]
  },
  {
   "cell_type": "code",
   "execution_count": 0,
   "metadata": {
    "application/vnd.databricks.v1+cell": {
     "cellMetadata": {
      "byteLimit": 2048000,
      "rowLimit": 10000
     },
     "inputWidgets": {},
     "nuid": "37c1688d-de51-4b3f-8f9e-c9f7d577ec6b",
     "showTitle": false,
     "tableResultSettingsMap": {},
     "title": ""
    }
   },
   "outputs": [
    {
     "output_type": "display_data",
     "data": {
      "text/html": [
       "<style scoped>\n",
       "  .table-result-container {\n",
       "    max-height: 300px;\n",
       "    overflow: auto;\n",
       "  }\n",
       "  table, th, td {\n",
       "    border: 1px solid black;\n",
       "    border-collapse: collapse;\n",
       "  }\n",
       "  th, td {\n",
       "    padding: 5px;\n",
       "  }\n",
       "  th {\n",
       "    text-align: left;\n",
       "  }\n",
       "</style><div class='table-result-container'><table class='table-result'><thead style='background-color: white'><tr><th>col_name</th><th>data_type</th><th>comment</th></tr></thead><tbody><tr><td>item_sk</td><td>int</td><td>null</td></tr><tr><td>itemid</td><td>int</td><td>null</td></tr></tbody></table></div>"
      ]
     },
     "metadata": {
      "application/vnd.databricks.v1+output": {
       "addedWidgets": {},
       "aggData": [],
       "aggError": "",
       "aggOverflow": false,
       "aggSchema": [],
       "aggSeriesLimitReached": false,
       "aggType": "",
       "arguments": {},
       "columnCustomDisplayInfos": {},
       "data": [
        [
         "item_sk",
         "int",
         null
        ],
        [
         "itemid",
         "int",
         null
        ]
       ],
       "datasetInfos": [
        {
         "name": "_sqldf",
         "schema": {
          "fields": [
           {
            "metadata": {},
            "name": "col_name",
            "nullable": false,
            "type": "string"
           },
           {
            "metadata": {},
            "name": "data_type",
            "nullable": false,
            "type": "string"
           },
           {
            "metadata": {},
            "name": "comment",
            "nullable": true,
            "type": "string"
           }
          ],
          "type": "struct"
         },
         "tableIdentifier": null,
         "typeStr": "pyspark.sql.connect.dataframe.DataFrame"
        }
       ],
       "dbfsResultPath": null,
       "isJsonSchema": true,
       "metadata": {
        "createTempViewForImplicitDf": true,
        "dataframeName": "_sqldf",
        "executionCount": 144
       },
       "overflow": false,
       "plotOptions": {
        "customPlotOptions": {},
        "displayType": "table",
        "pivotAggregation": null,
        "pivotColumns": null,
        "xColumns": null,
        "yColumns": null
       },
       "removedWidgets": [],
       "schema": [
        {
         "metadata": "{}",
         "name": "col_name",
         "type": "\"string\""
        },
        {
         "metadata": "{}",
         "name": "data_type",
         "type": "\"string\""
        },
        {
         "metadata": "{}",
         "name": "comment",
         "type": "\"string\""
        }
       ],
       "type": "table"
      }
     },
     "output_type": "display_data"
    }
   ],
   "source": [
    "DESCRIBE workspace.default.dim_item"
   ]
  },
  {
   "cell_type": "code",
   "execution_count": 0,
   "metadata": {
    "application/vnd.databricks.v1+cell": {
     "cellMetadata": {
      "byteLimit": 2048000,
      "rowLimit": 10000
     },
     "inputWidgets": {},
     "nuid": "302f300a-5f3b-4633-bd86-c33e953cd3b6",
     "showTitle": false,
     "tableResultSettingsMap": {},
     "title": ""
    }
   },
   "outputs": [
    {
     "output_type": "display_data",
     "data": {
      "text/html": [
       "<style scoped>\n",
       "  .table-result-container {\n",
       "    max-height: 300px;\n",
       "    overflow: auto;\n",
       "  }\n",
       "  table, th, td {\n",
       "    border: 1px solid black;\n",
       "    border-collapse: collapse;\n",
       "  }\n",
       "  th, td {\n",
       "    padding: 5px;\n",
       "  }\n",
       "  th {\n",
       "    text-align: left;\n",
       "  }\n",
       "</style><div class='table-result-container'><table class='table-result'><thead style='background-color: white'><tr><th>num_affected_rows</th><th>num_inserted_rows</th></tr></thead><tbody></tbody></table></div>"
      ]
     },
     "metadata": {
      "application/vnd.databricks.v1+output": {
       "addedWidgets": {},
       "aggData": [],
       "aggError": "",
       "aggOverflow": false,
       "aggSchema": [],
       "aggSeriesLimitReached": false,
       "aggType": "",
       "arguments": {},
       "columnCustomDisplayInfos": {},
       "data": [],
       "datasetInfos": [
        {
         "name": "_sqldf",
         "schema": {
          "fields": [
           {
            "metadata": {},
            "name": "num_affected_rows",
            "nullable": true,
            "type": "long"
           },
           {
            "metadata": {},
            "name": "num_inserted_rows",
            "nullable": true,
            "type": "long"
           }
          ],
          "type": "struct"
         },
         "tableIdentifier": null,
         "typeStr": "pyspark.sql.connect.dataframe.DataFrame"
        }
       ],
       "dbfsResultPath": null,
       "isJsonSchema": true,
       "metadata": {
        "createTempViewForImplicitDf": true,
        "dataframeName": "_sqldf",
        "executionCount": 122
       },
       "overflow": false,
       "plotOptions": {
        "customPlotOptions": {},
        "displayType": "table",
        "pivotAggregation": null,
        "pivotColumns": null,
        "xColumns": null,
        "yColumns": null
       },
       "removedWidgets": [],
       "schema": [
        {
         "metadata": "{}",
         "name": "num_affected_rows",
         "type": "\"long\""
        },
        {
         "metadata": "{}",
         "name": "num_inserted_rows",
         "type": "\"long\""
        }
       ],
       "type": "table"
      }
     },
     "output_type": "display_data"
    }
   ],
   "source": [
    "CREATE OR REPLACE TABLE workspace.default.dim_category AS\n",
    "SELECT\n",
    "    ROW_NUMBER() OVER (ORDER BY categoryid) AS category_sk,\n",
    "    categoryid,\n",
    "    parentid\n",
    "FROM items_category;\n"
   ]
  },
  {
   "cell_type": "code",
   "execution_count": 0,
   "metadata": {
    "application/vnd.databricks.v1+cell": {
     "cellMetadata": {
      "byteLimit": 2048000,
      "rowLimit": 10000
     },
     "inputWidgets": {},
     "nuid": "cf06c311-6b46-49f4-af7b-677001c3279e",
     "showTitle": false,
     "tableResultSettingsMap": {},
     "title": ""
    }
   },
   "outputs": [
    {
     "output_type": "display_data",
     "data": {
      "text/html": [
       "<style scoped>\n",
       "  .table-result-container {\n",
       "    max-height: 300px;\n",
       "    overflow: auto;\n",
       "  }\n",
       "  table, th, td {\n",
       "    border: 1px solid black;\n",
       "    border-collapse: collapse;\n",
       "  }\n",
       "  th, td {\n",
       "    padding: 5px;\n",
       "  }\n",
       "  th {\n",
       "    text-align: left;\n",
       "  }\n",
       "</style><div class='table-result-container'><table class='table-result'><thead style='background-color: white'><tr><th>col_name</th><th>data_type</th><th>comment</th></tr></thead><tbody><tr><td>category_sk</td><td>int</td><td>null</td></tr><tr><td>categoryid</td><td>int</td><td>null</td></tr><tr><td>parentid</td><td>int</td><td>null</td></tr></tbody></table></div>"
      ]
     },
     "metadata": {
      "application/vnd.databricks.v1+output": {
       "addedWidgets": {},
       "aggData": [],
       "aggError": "",
       "aggOverflow": false,
       "aggSchema": [],
       "aggSeriesLimitReached": false,
       "aggType": "",
       "arguments": {},
       "columnCustomDisplayInfos": {},
       "data": [
        [
         "category_sk",
         "int",
         null
        ],
        [
         "categoryid",
         "int",
         null
        ],
        [
         "parentid",
         "int",
         null
        ]
       ],
       "datasetInfos": [
        {
         "name": "_sqldf",
         "schema": {
          "fields": [
           {
            "metadata": {},
            "name": "col_name",
            "nullable": false,
            "type": "string"
           },
           {
            "metadata": {},
            "name": "data_type",
            "nullable": false,
            "type": "string"
           },
           {
            "metadata": {},
            "name": "comment",
            "nullable": true,
            "type": "string"
           }
          ],
          "type": "struct"
         },
         "tableIdentifier": null,
         "typeStr": "pyspark.sql.connect.dataframe.DataFrame"
        }
       ],
       "dbfsResultPath": null,
       "isJsonSchema": true,
       "metadata": {
        "createTempViewForImplicitDf": true,
        "dataframeName": "_sqldf",
        "executionCount": 143
       },
       "overflow": false,
       "plotOptions": {
        "customPlotOptions": {},
        "displayType": "table",
        "pivotAggregation": null,
        "pivotColumns": null,
        "xColumns": null,
        "yColumns": null
       },
       "removedWidgets": [],
       "schema": [
        {
         "metadata": "{}",
         "name": "col_name",
         "type": "\"string\""
        },
        {
         "metadata": "{}",
         "name": "data_type",
         "type": "\"string\""
        },
        {
         "metadata": "{}",
         "name": "comment",
         "type": "\"string\""
        }
       ],
       "type": "table"
      }
     },
     "output_type": "display_data"
    }
   ],
   "source": [
    "DESCRIBE workspace.default.dim_category"
   ]
  },
  {
   "cell_type": "code",
   "execution_count": 0,
   "metadata": {
    "application/vnd.databricks.v1+cell": {
     "cellMetadata": {
      "byteLimit": 2048000,
      "rowLimit": 10000
     },
     "inputWidgets": {},
     "nuid": "f08c5662-be41-4cdb-a911-fa3a1c5449eb",
     "showTitle": false,
     "tableResultSettingsMap": {},
     "title": ""
    }
   },
   "outputs": [
    {
     "output_type": "display_data",
     "data": {
      "text/html": [
       "<style scoped>\n",
       "  .table-result-container {\n",
       "    max-height: 300px;\n",
       "    overflow: auto;\n",
       "  }\n",
       "  table, th, td {\n",
       "    border: 1px solid black;\n",
       "    border-collapse: collapse;\n",
       "  }\n",
       "  th, td {\n",
       "    padding: 5px;\n",
       "  }\n",
       "  th {\n",
       "    text-align: left;\n",
       "  }\n",
       "</style><div class='table-result-container'><table class='table-result'><thead style='background-color: white'><tr><th>num_affected_rows</th><th>num_inserted_rows</th></tr></thead><tbody></tbody></table></div>"
      ]
     },
     "metadata": {
      "application/vnd.databricks.v1+output": {
       "addedWidgets": {},
       "aggData": [],
       "aggError": "",
       "aggOverflow": false,
       "aggSchema": [],
       "aggSeriesLimitReached": false,
       "aggType": "",
       "arguments": {},
       "columnCustomDisplayInfos": {},
       "data": [],
       "datasetInfos": [
        {
         "name": "_sqldf",
         "schema": {
          "fields": [
           {
            "metadata": {},
            "name": "num_affected_rows",
            "nullable": true,
            "type": "long"
           },
           {
            "metadata": {},
            "name": "num_inserted_rows",
            "nullable": true,
            "type": "long"
           }
          ],
          "type": "struct"
         },
         "tableIdentifier": null,
         "typeStr": "pyspark.sql.connect.dataframe.DataFrame"
        }
       ],
       "dbfsResultPath": null,
       "isJsonSchema": true,
       "metadata": {
        "createTempViewForImplicitDf": true,
        "dataframeName": "_sqldf",
        "executionCount": 123
       },
       "overflow": false,
       "plotOptions": {
        "customPlotOptions": {},
        "displayType": "table",
        "pivotAggregation": null,
        "pivotColumns": null,
        "xColumns": null,
        "yColumns": null
       },
       "removedWidgets": [],
       "schema": [
        {
         "metadata": "{}",
         "name": "num_affected_rows",
         "type": "\"long\""
        },
        {
         "metadata": "{}",
         "name": "num_inserted_rows",
         "type": "\"long\""
        }
       ],
       "type": "table"
      }
     },
     "output_type": "display_data"
    }
   ],
   "source": [
    "CREATE OR REPLACE TABLE workspace.default.dim_user AS\n",
    "SELECT\n",
    "    ROW_NUMBER() OVER (ORDER BY visitorid) AS user_sk,\n",
    "    visitorid\n",
    "FROM (\n",
    "    SELECT DISTINCT visitorid FROM events_staging\n",
    "    WHERE visitorid IS NOT NULL\n",
    ");\n"
   ]
  },
  {
   "cell_type": "code",
   "execution_count": 0,
   "metadata": {
    "application/vnd.databricks.v1+cell": {
     "cellMetadata": {
      "byteLimit": 2048000,
      "rowLimit": 10000
     },
     "inputWidgets": {},
     "nuid": "4013ba7a-bbef-49b0-bd73-0b0d1b5fa0ed",
     "showTitle": false,
     "tableResultSettingsMap": {},
     "title": ""
    }
   },
   "outputs": [
    {
     "output_type": "display_data",
     "data": {
      "text/html": [
       "<style scoped>\n",
       "  .table-result-container {\n",
       "    max-height: 300px;\n",
       "    overflow: auto;\n",
       "  }\n",
       "  table, th, td {\n",
       "    border: 1px solid black;\n",
       "    border-collapse: collapse;\n",
       "  }\n",
       "  th, td {\n",
       "    padding: 5px;\n",
       "  }\n",
       "  th {\n",
       "    text-align: left;\n",
       "  }\n",
       "</style><div class='table-result-container'><table class='table-result'><thead style='background-color: white'><tr><th>col_name</th><th>data_type</th><th>comment</th></tr></thead><tbody><tr><td>user_sk</td><td>int</td><td>null</td></tr><tr><td>visitorid</td><td>int</td><td>null</td></tr></tbody></table></div>"
      ]
     },
     "metadata": {
      "application/vnd.databricks.v1+output": {
       "addedWidgets": {},
       "aggData": [],
       "aggError": "",
       "aggOverflow": false,
       "aggSchema": [],
       "aggSeriesLimitReached": false,
       "aggType": "",
       "arguments": {},
       "columnCustomDisplayInfos": {},
       "data": [
        [
         "user_sk",
         "int",
         null
        ],
        [
         "visitorid",
         "int",
         null
        ]
       ],
       "datasetInfos": [
        {
         "name": "_sqldf",
         "schema": {
          "fields": [
           {
            "metadata": {},
            "name": "col_name",
            "nullable": false,
            "type": "string"
           },
           {
            "metadata": {},
            "name": "data_type",
            "nullable": false,
            "type": "string"
           },
           {
            "metadata": {},
            "name": "comment",
            "nullable": true,
            "type": "string"
           }
          ],
          "type": "struct"
         },
         "tableIdentifier": null,
         "typeStr": "pyspark.sql.connect.dataframe.DataFrame"
        }
       ],
       "dbfsResultPath": null,
       "isJsonSchema": true,
       "metadata": {
        "createTempViewForImplicitDf": true,
        "dataframeName": "_sqldf",
        "executionCount": 142
       },
       "overflow": false,
       "plotOptions": {
        "customPlotOptions": {},
        "displayType": "table",
        "pivotAggregation": null,
        "pivotColumns": null,
        "xColumns": null,
        "yColumns": null
       },
       "removedWidgets": [],
       "schema": [
        {
         "metadata": "{}",
         "name": "col_name",
         "type": "\"string\""
        },
        {
         "metadata": "{}",
         "name": "data_type",
         "type": "\"string\""
        },
        {
         "metadata": "{}",
         "name": "comment",
         "type": "\"string\""
        }
       ],
       "type": "table"
      }
     },
     "output_type": "display_data"
    }
   ],
   "source": [
    "DESCRIBE workspace.default.dim_user"
   ]
  },
  {
   "cell_type": "code",
   "execution_count": 0,
   "metadata": {
    "application/vnd.databricks.v1+cell": {
     "cellMetadata": {
      "byteLimit": 2048000,
      "rowLimit": 10000
     },
     "inputWidgets": {},
     "nuid": "cd25e1ee-ea9b-47eb-a5af-5f470fe10e57",
     "showTitle": false,
     "tableResultSettingsMap": {},
     "title": ""
    }
   },
   "outputs": [
    {
     "output_type": "display_data",
     "data": {
      "text/html": [
       "<style scoped>\n",
       "  .table-result-container {\n",
       "    max-height: 300px;\n",
       "    overflow: auto;\n",
       "  }\n",
       "  table, th, td {\n",
       "    border: 1px solid black;\n",
       "    border-collapse: collapse;\n",
       "  }\n",
       "  th, td {\n",
       "    padding: 5px;\n",
       "  }\n",
       "  th {\n",
       "    text-align: left;\n",
       "  }\n",
       "</style><div class='table-result-container'><table class='table-result'><thead style='background-color: white'><tr><th>num_affected_rows</th><th>num_inserted_rows</th></tr></thead><tbody></tbody></table></div>"
      ]
     },
     "metadata": {
      "application/vnd.databricks.v1+output": {
       "addedWidgets": {},
       "aggData": [],
       "aggError": "",
       "aggOverflow": false,
       "aggSchema": [],
       "aggSeriesLimitReached": false,
       "aggType": "",
       "arguments": {},
       "columnCustomDisplayInfos": {},
       "data": [],
       "datasetInfos": [
        {
         "name": "_sqldf",
         "schema": {
          "fields": [
           {
            "metadata": {},
            "name": "num_affected_rows",
            "nullable": true,
            "type": "long"
           },
           {
            "metadata": {},
            "name": "num_inserted_rows",
            "nullable": true,
            "type": "long"
           }
          ],
          "type": "struct"
         },
         "tableIdentifier": null,
         "typeStr": "pyspark.sql.connect.dataframe.DataFrame"
        }
       ],
       "dbfsResultPath": null,
       "isJsonSchema": true,
       "metadata": {
        "createTempViewForImplicitDf": true,
        "dataframeName": "_sqldf",
        "executionCount": 124
       },
       "overflow": false,
       "plotOptions": {
        "customPlotOptions": {},
        "displayType": "table",
        "pivotAggregation": null,
        "pivotColumns": null,
        "xColumns": null,
        "yColumns": null
       },
       "removedWidgets": [],
       "schema": [
        {
         "metadata": "{}",
         "name": "num_affected_rows",
         "type": "\"long\""
        },
        {
         "metadata": "{}",
         "name": "num_inserted_rows",
         "type": "\"long\""
        }
       ],
       "type": "table"
      }
     },
     "output_type": "display_data"
    }
   ],
   "source": [
    "CREATE OR REPLACE TABLE workspace.default.dim_event AS\n",
    "SELECT\n",
    "    ROW_NUMBER() OVER (ORDER BY event) AS event_sk,\n",
    "    event\n",
    "FROM (\n",
    "    SELECT DISTINCT event FROM events_staging\n",
    "    WHERE event IS NOT NULL\n",
    ");\n"
   ]
  },
  {
   "cell_type": "code",
   "execution_count": 0,
   "metadata": {
    "application/vnd.databricks.v1+cell": {
     "cellMetadata": {
      "byteLimit": 2048000,
      "rowLimit": 10000
     },
     "inputWidgets": {},
     "nuid": "07c4a06a-d330-43ef-ba27-e3975700cdaf",
     "showTitle": false,
     "tableResultSettingsMap": {},
     "title": ""
    }
   },
   "outputs": [
    {
     "output_type": "display_data",
     "data": {
      "text/html": [
       "<style scoped>\n",
       "  .table-result-container {\n",
       "    max-height: 300px;\n",
       "    overflow: auto;\n",
       "  }\n",
       "  table, th, td {\n",
       "    border: 1px solid black;\n",
       "    border-collapse: collapse;\n",
       "  }\n",
       "  th, td {\n",
       "    padding: 5px;\n",
       "  }\n",
       "  th {\n",
       "    text-align: left;\n",
       "  }\n",
       "</style><div class='table-result-container'><table class='table-result'><thead style='background-color: white'><tr><th>col_name</th><th>data_type</th><th>comment</th></tr></thead><tbody><tr><td>event_sk</td><td>int</td><td>null</td></tr><tr><td>event</td><td>string</td><td>null</td></tr></tbody></table></div>"
      ]
     },
     "metadata": {
      "application/vnd.databricks.v1+output": {
       "addedWidgets": {},
       "aggData": [],
       "aggError": "",
       "aggOverflow": false,
       "aggSchema": [],
       "aggSeriesLimitReached": false,
       "aggType": "",
       "arguments": {},
       "columnCustomDisplayInfos": {},
       "data": [
        [
         "event_sk",
         "int",
         null
        ],
        [
         "event",
         "string",
         null
        ]
       ],
       "datasetInfos": [
        {
         "name": "_sqldf",
         "schema": {
          "fields": [
           {
            "metadata": {},
            "name": "col_name",
            "nullable": false,
            "type": "string"
           },
           {
            "metadata": {},
            "name": "data_type",
            "nullable": false,
            "type": "string"
           },
           {
            "metadata": {},
            "name": "comment",
            "nullable": true,
            "type": "string"
           }
          ],
          "type": "struct"
         },
         "tableIdentifier": null,
         "typeStr": "pyspark.sql.connect.dataframe.DataFrame"
        }
       ],
       "dbfsResultPath": null,
       "isJsonSchema": true,
       "metadata": {
        "createTempViewForImplicitDf": true,
        "dataframeName": "_sqldf",
        "executionCount": 140
       },
       "overflow": false,
       "plotOptions": {
        "customPlotOptions": {},
        "displayType": "table",
        "pivotAggregation": null,
        "pivotColumns": null,
        "xColumns": null,
        "yColumns": null
       },
       "removedWidgets": [],
       "schema": [
        {
         "metadata": "{}",
         "name": "col_name",
         "type": "\"string\""
        },
        {
         "metadata": "{}",
         "name": "data_type",
         "type": "\"string\""
        },
        {
         "metadata": "{}",
         "name": "comment",
         "type": "\"string\""
        }
       ],
       "type": "table"
      }
     },
     "output_type": "display_data"
    }
   ],
   "source": [
    "DESCRIBE workspace.default.dim_event"
   ]
  },
  {
   "cell_type": "markdown",
   "metadata": {
    "application/vnd.databricks.v1+cell": {
     "cellMetadata": {},
     "inputWidgets": {},
     "nuid": "bf30c4f8-fa76-4f4c-a88d-b8f82df7a718",
     "showTitle": false,
     "tableResultSettingsMap": {},
     "title": ""
    }
   },
   "source": [
    "## Creating Fact Table"
   ]
  },
  {
   "cell_type": "code",
   "execution_count": 0,
   "metadata": {
    "application/vnd.databricks.v1+cell": {
     "cellMetadata": {
      "byteLimit": 2048000,
      "rowLimit": 10000
     },
     "inputWidgets": {},
     "nuid": "0ba0ce2f-9330-465c-a9a3-9d3d65f96011",
     "showTitle": false,
     "tableResultSettingsMap": {},
     "title": ""
    }
   },
   "outputs": [],
   "source": [
    "CREATE TABLE IF NOT EXISTS workspace.default.fact_events (\n",
    "    timestamp BIGINT,\n",
    "    event_date DATE,\n",
    "    event_sk INT,\n",
    "    user_sk INT,\n",
    "    item_sk INT,\n",
    "    transactionid INT\n",
    ")\n",
    "USING DELTA\n",
    "PARTITIONED BY (event_date);"
   ]
  },
  {
   "cell_type": "markdown",
   "metadata": {
    "application/vnd.databricks.v1+cell": {
     "cellMetadata": {},
     "inputWidgets": {},
     "nuid": "22671cdb-56a9-4770-82da-8d4a0d93be08",
     "showTitle": false,
     "tableResultSettingsMap": {},
     "title": ""
    }
   },
   "source": [
    "## ETL Pipeline Starts"
   ]
  },
  {
   "cell_type": "markdown",
   "metadata": {
    "application/vnd.databricks.v1+cell": {
     "cellMetadata": {},
     "inputWidgets": {},
     "nuid": "18e5baf2-8268-4606-aae1-aea232207ef6",
     "showTitle": false,
     "tableResultSettingsMap": {},
     "title": ""
    }
   },
   "source": [
    "### Creating ETL metadata"
   ]
  },
  {
   "cell_type": "code",
   "execution_count": 0,
   "metadata": {
    "application/vnd.databricks.v1+cell": {
     "cellMetadata": {},
     "inputWidgets": {},
     "nuid": "29ee019e-d914-4484-8875-9b6e24d10176",
     "showTitle": false,
     "tableResultSettingsMap": {},
     "title": ""
    }
   },
   "outputs": [],
   "source": [
    "%python\n",
    "print(\"ETL starts\")"
   ]
  },
  {
   "cell_type": "code",
   "execution_count": 0,
   "metadata": {
    "application/vnd.databricks.v1+cell": {
     "cellMetadata": {
      "byteLimit": 2048000,
      "rowLimit": 10000
     },
     "inputWidgets": {},
     "nuid": "ebb08c2e-5da9-4cbb-a91b-7d80db01dcb6",
     "showTitle": false,
     "tableResultSettingsMap": {},
     "title": ""
    }
   },
   "outputs": [],
   "source": [
    "CREATE OR REPLACE TABLE workspace.default.etl_metadata (\n",
    "    table_name STRING,\n",
    "    last_loaded_date DATE\n",
    ");"
   ]
  },
  {
   "cell_type": "code",
   "execution_count": 0,
   "metadata": {
    "application/vnd.databricks.v1+cell": {
     "cellMetadata": {
      "byteLimit": 2048000,
      "rowLimit": 10000
     },
     "inputWidgets": {},
     "nuid": "a19e6dae-c1c3-413c-bed8-be93aed5f4b7",
     "showTitle": false,
     "tableResultSettingsMap": {},
     "title": ""
    }
   },
   "outputs": [
    {
     "output_type": "display_data",
     "data": {
      "text/html": [
       "<style scoped>\n",
       "  .table-result-container {\n",
       "    max-height: 300px;\n",
       "    overflow: auto;\n",
       "  }\n",
       "  table, th, td {\n",
       "    border: 1px solid black;\n",
       "    border-collapse: collapse;\n",
       "  }\n",
       "  th, td {\n",
       "    padding: 5px;\n",
       "  }\n",
       "  th {\n",
       "    text-align: left;\n",
       "  }\n",
       "</style><div class='table-result-container'><table class='table-result'><thead style='background-color: white'><tr><th>num_affected_rows</th><th>num_inserted_rows</th></tr></thead><tbody><tr><td>1</td><td>1</td></tr></tbody></table></div>"
      ]
     },
     "metadata": {
      "application/vnd.databricks.v1+output": {
       "addedWidgets": {},
       "aggData": [],
       "aggError": "",
       "aggOverflow": false,
       "aggSchema": [],
       "aggSeriesLimitReached": false,
       "aggType": "",
       "arguments": {},
       "columnCustomDisplayInfos": {},
       "data": [
        [
         1,
         1
        ]
       ],
       "datasetInfos": [
        {
         "name": "_sqldf",
         "schema": {
          "fields": [
           {
            "metadata": {},
            "name": "num_affected_rows",
            "nullable": true,
            "type": "long"
           },
           {
            "metadata": {},
            "name": "num_inserted_rows",
            "nullable": true,
            "type": "long"
           }
          ],
          "type": "struct"
         },
         "tableIdentifier": null,
         "typeStr": "pyspark.sql.connect.dataframe.DataFrame"
        }
       ],
       "dbfsResultPath": null,
       "isJsonSchema": true,
       "metadata": {
        "createTempViewForImplicitDf": true,
        "dataframeName": "_sqldf",
        "executionCount": 132
       },
       "overflow": false,
       "plotOptions": {
        "customPlotOptions": {},
        "displayType": "table",
        "pivotAggregation": null,
        "pivotColumns": null,
        "xColumns": null,
        "yColumns": null
       },
       "removedWidgets": [],
       "schema": [
        {
         "metadata": "{}",
         "name": "num_affected_rows",
         "type": "\"long\""
        },
        {
         "metadata": "{}",
         "name": "num_inserted_rows",
         "type": "\"long\""
        }
       ],
       "type": "table"
      }
     },
     "output_type": "display_data"
    }
   ],
   "source": [
    "INSERT INTO workspace.default.etl_metadata VALUES ('fact_events', '2015-06-2');"
   ]
  },
  {
   "cell_type": "code",
   "execution_count": 0,
   "metadata": {
    "application/vnd.databricks.v1+cell": {
     "cellMetadata": {
      "byteLimit": 2048000,
      "rowLimit": 10000
     },
     "inputWidgets": {},
     "nuid": "f0529664-6d5d-4b5b-a525-a69b702361e9",
     "showTitle": false,
     "tableResultSettingsMap": {},
     "title": ""
    }
   },
   "outputs": [
    {
     "output_type": "display_data",
     "data": {
      "text/html": [
       "<style scoped>\n",
       "  .table-result-container {\n",
       "    max-height: 300px;\n",
       "    overflow: auto;\n",
       "  }\n",
       "  table, th, td {\n",
       "    border: 1px solid black;\n",
       "    border-collapse: collapse;\n",
       "  }\n",
       "  th, td {\n",
       "    padding: 5px;\n",
       "  }\n",
       "  th {\n",
       "    text-align: left;\n",
       "  }\n",
       "</style><div class='table-result-container'><table class='table-result'><thead style='background-color: white'><tr><th>table_name</th><th>last_loaded_date</th></tr></thead><tbody><tr><td>fact_events</td><td>2015-06-02</td></tr></tbody></table></div>"
      ]
     },
     "metadata": {
      "application/vnd.databricks.v1+output": {
       "addedWidgets": {},
       "aggData": [],
       "aggError": "",
       "aggOverflow": false,
       "aggSchema": [],
       "aggSeriesLimitReached": false,
       "aggType": "",
       "arguments": {},
       "columnCustomDisplayInfos": {},
       "data": [
        [
         "fact_events",
         "2015-06-02"
        ]
       ],
       "datasetInfos": [
        {
         "name": "_sqldf",
         "schema": {
          "fields": [
           {
            "metadata": {},
            "name": "table_name",
            "nullable": true,
            "type": "string"
           },
           {
            "metadata": {},
            "name": "last_loaded_date",
            "nullable": true,
            "type": "date"
           }
          ],
          "type": "struct"
         },
         "tableIdentifier": null,
         "typeStr": "pyspark.sql.connect.dataframe.DataFrame"
        }
       ],
       "dbfsResultPath": null,
       "isJsonSchema": true,
       "metadata": {
        "createTempViewForImplicitDf": true,
        "dataframeName": "_sqldf",
        "executionCount": 133
       },
       "overflow": false,
       "plotOptions": {
        "customPlotOptions": {},
        "displayType": "table",
        "pivotAggregation": null,
        "pivotColumns": null,
        "xColumns": null,
        "yColumns": null
       },
       "removedWidgets": [],
       "schema": [
        {
         "metadata": "{}",
         "name": "table_name",
         "type": "\"string\""
        },
        {
         "metadata": "{}",
         "name": "last_loaded_date",
         "type": "\"date\""
        }
       ],
       "type": "table"
      }
     },
     "output_type": "display_data"
    }
   ],
   "source": [
    "select * from workspace.default.etl_metadata"
   ]
  },
  {
   "cell_type": "markdown",
   "metadata": {
    "application/vnd.databricks.v1+cell": {
     "cellMetadata": {},
     "inputWidgets": {},
     "nuid": "d50f6d23-81ed-4be5-87ab-4c771f48d554",
     "showTitle": false,
     "tableResultSettingsMap": {},
     "title": ""
    }
   },
   "source": [
    "### Incremental data loading logic"
   ]
  },
  {
   "cell_type": "code",
   "execution_count": 0,
   "metadata": {
    "application/vnd.databricks.v1+cell": {
     "cellMetadata": {},
     "inputWidgets": {},
     "nuid": "6a5790ce-f8d2-4914-9c4d-dd0c27eee578",
     "showTitle": false,
     "tableResultSettingsMap": {},
     "title": ""
    }
   },
   "outputs": [],
   "source": [
    "%python\n",
    "print(\"Incremental data loading starts\")"
   ]
  },
  {
   "cell_type": "code",
   "execution_count": 0,
   "metadata": {
    "application/vnd.databricks.v1+cell": {
     "cellMetadata": {
      "byteLimit": 2048000,
      "rowLimit": 10000
     },
     "inputWidgets": {},
     "nuid": "22427987-4dcb-41c3-add6-864b9130e262",
     "showTitle": false,
     "tableResultSettingsMap": {},
     "title": ""
    }
   },
   "outputs": [],
   "source": [
    "%python\n",
    "last_date_row = spark.sql(\"\"\"\n",
    "    SELECT last_loaded_date FROM workspace.default.etl_metadata \n",
    "    WHERE table_name = 'fact_events'\n",
    "\"\"\").collect()\n",
    "\n",
    "if last_date_row:\n",
    "    last_loaded_date = last_date_row[0]['last_loaded_date']\n",
    "    print(f\"Last loaded date: {last_loaded_date}\")\n",
    "else:\n",
    "    raise Exception(\"No metadata found for 'fact_events' in etl_metadata.\")\n"
   ]
  },
  {
   "cell_type": "code",
   "execution_count": 0,
   "metadata": {
    "application/vnd.databricks.v1+cell": {
     "cellMetadata": {
      "byteLimit": 2048000,
      "rowLimit": 10000
     },
     "inputWidgets": {},
     "nuid": "11f63097-937e-4806-9a87-f51e7b1fecbc",
     "showTitle": false,
     "tableResultSettingsMap": {},
     "title": ""
    }
   },
   "outputs": [
    {
     "output_type": "stream",
     "name": "stdout",
     "output_type": "stream",
     "text": [
      "root\n |-- timestamp: long (nullable = true)\n |-- event_date: date (nullable = true)\n |-- event_sk: integer (nullable = true)\n |-- user_sk: integer (nullable = true)\n |-- item_sk: integer (nullable = true)\n |-- transactionid: integer (nullable = true)\n\n"
     ]
    }
   ],
   "source": [
    "%python\n",
    "from pyspark.sql.functions import col\n",
    "\n",
    "try:\n",
    "    print(\"Starting ETL job...\")\n",
    "\n",
    "    print(f\"Fetching new events after {last_loaded_date}\")\n",
    "    new_events = spark.sql(f\"\"\"\n",
    "        SELECT * FROM events_staging\n",
    "        WHERE event_date > DATE('{last_loaded_date}')\n",
    "    \"\"\")\n",
    "\n",
    "    print(\"Joining new events with dimension tables...\")\n",
    "    new_data = new_events.alias(\"e\") \\\n",
    "        .join(spark.table(\"workspace.default.dim_event\").alias(\"ev\"), col(\"e.event\") == col(\"ev.event\"), \"inner\") \\\n",
    "        .join(spark.table(\"workspace.default.dim_user\").alias(\"u\"), col(\"e.visitorid\") == col(\"u.visitorid\"), \"inner\") \\\n",
    "        .join(spark.table(\"workspace.default.dim_item\").alias(\"i\"), col(\"e.itemid\") == col(\"i.itemid\"), \"inner\") \\\n",
    "        .select(\n",
    "            col(\"e.timestamp\"),\n",
    "            col(\"e.event_date\"),\n",
    "            col(\"ev.event_sk\"),\n",
    "            col(\"u.user_sk\"),\n",
    "            col(\"i.item_sk\"),\n",
    "            col(\"e.transactionid\")\n",
    "        )\n",
    "\n",
    "    print(\"Schema of transformed data:\")\n",
    "    new_data.printSchema()\n",
    "\n",
    "    count = new_data.count()\n",
    "    print(f\"New records to load: {count}\")\n",
    "\n",
    "    if count > 0:\n",
    "        print(\"Writing new data to fact_events table...\")\n",
    "        new_data.write.format(\"delta\") \\\n",
    "            .mode(\"append\") \\\n",
    "            .partitionBy(\"event_date\") \\\n",
    "            .saveAsTable(\"workspace.default.fact_events\")\n",
    "\n",
    "        max_date = new_data.agg({\"event_date\": \"max\"}).collect()[0][\"max(event_date)\"]\n",
    "        print(f\"Updating metadata with last loaded date: {max_date}\")\n",
    "\n",
    "        spark.sql(f\"\"\"\n",
    "            DELETE FROM workspace.default.etl_metadata\n",
    "            WHERE table_name = 'fact_events'\n",
    "        \"\"\")\n",
    "        spark.sql(f\"\"\"\n",
    "            INSERT INTO workspace.default.etl_metadata\n",
    "            VALUES ('fact_events', DATE('{max_date}'))\n",
    "        \"\"\")\n",
    "\n",
    "        print(\"ETL job completed successfully.\")\n",
    "        dbutils.notebook.exit(\"SUCCESS\")\n",
    "    else:\n",
    "        print(\"No new data to load.\")\n",
    "        dbutils.notebook.exit(\"SUCCESS\")\n",
    "\n",
    "except Exception as e:\n",
    "    print(\"ETL job failed.\")\n",
    "    print(str(e))\n",
    "    dbutils.notebook.exit(f\"FAILURE: {str(e)}\")\n"
   ]
  },
  {
   "cell_type": "markdown",
   "metadata": {
    "application/vnd.databricks.v1+cell": {
     "cellMetadata": {},
     "inputWidgets": {},
     "nuid": "9397384b-355a-4165-bd3a-f241db7eda37",
     "showTitle": false,
     "tableResultSettingsMap": {},
     "title": ""
    }
   },
   "source": [
    "## Testing"
   ]
  },
  {
   "cell_type": "markdown",
   "metadata": {
    "application/vnd.databricks.v1+cell": {
     "cellMetadata": {},
     "inputWidgets": {},
     "nuid": "0beff167-58d5-4b80-9ea4-8935d55d1501",
     "showTitle": false,
     "tableResultSettingsMap": {},
     "title": ""
    }
   },
   "source": [
    "##### how many events of a type?"
   ]
  },
  {
   "cell_type": "code",
   "execution_count": 0,
   "metadata": {
    "application/vnd.databricks.v1+cell": {
     "cellMetadata": {
      "byteLimit": 2048000,
      "rowLimit": 10000
     },
     "inputWidgets": {},
     "nuid": "a8c334e5-eb20-4614-8405-917a36b3b27e",
     "showTitle": false,
     "tableResultSettingsMap": {},
     "title": ""
    }
   },
   "outputs": [
    {
     "output_type": "display_data",
     "data": {
      "text/html": [
       "<style scoped>\n",
       "  .table-result-container {\n",
       "    max-height: 300px;\n",
       "    overflow: auto;\n",
       "  }\n",
       "  table, th, td {\n",
       "    border: 1px solid black;\n",
       "    border-collapse: collapse;\n",
       "  }\n",
       "  th, td {\n",
       "    padding: 5px;\n",
       "  }\n",
       "  th {\n",
       "    text-align: left;\n",
       "  }\n",
       "</style><div class='table-result-container'><table class='table-result'><thead style='background-color: white'><tr><th>event</th><th>total_events</th></tr></thead><tbody><tr><td>addtocart</td><td>53916</td></tr><tr><td>view</td><td>2047961</td></tr><tr><td>transaction</td><td>17440</td></tr></tbody></table></div>"
      ]
     },
     "metadata": {
      "application/vnd.databricks.v1+output": {
       "addedWidgets": {},
       "aggData": [],
       "aggError": "",
       "aggOverflow": false,
       "aggSchema": [],
       "aggSeriesLimitReached": false,
       "aggType": "",
       "arguments": {},
       "columnCustomDisplayInfos": {},
       "data": [
        [
         "addtocart",
         53916
        ],
        [
         "view",
         2047961
        ],
        [
         "transaction",
         17440
        ]
       ],
       "datasetInfos": [
        {
         "name": "_sqldf",
         "schema": {
          "fields": [
           {
            "metadata": {},
            "name": "event",
            "nullable": true,
            "type": "string"
           },
           {
            "metadata": {},
            "name": "total_events",
            "nullable": false,
            "type": "long"
           }
          ],
          "type": "struct"
         },
         "tableIdentifier": null,
         "typeStr": "pyspark.sql.connect.dataframe.DataFrame"
        }
       ],
       "dbfsResultPath": null,
       "isJsonSchema": true,
       "metadata": {
        "createTempViewForImplicitDf": true,
        "dataframeName": "_sqldf",
        "executionCount": 175
       },
       "overflow": false,
       "plotOptions": {
        "customPlotOptions": {},
        "displayType": "table",
        "pivotAggregation": null,
        "pivotColumns": null,
        "xColumns": null,
        "yColumns": null
       },
       "removedWidgets": [],
       "schema": [
        {
         "metadata": "{}",
         "name": "event",
         "type": "\"string\""
        },
        {
         "metadata": "{}",
         "name": "total_events",
         "type": "\"long\""
        }
       ],
       "type": "table"
      }
     },
     "output_type": "display_data"
    }
   ],
   "source": [
    "SELECT ev.event, COUNT(*) as total_events\n",
    "FROM workspace.default.fact_events f\n",
    "JOIN workspace.default.dim_event ev ON f.event_sk = ev.event_sk\n",
    "GROUP BY ev.event;"
   ]
  },
  {
   "cell_type": "markdown",
   "metadata": {
    "application/vnd.databricks.v1+cell": {
     "cellMetadata": {},
     "inputWidgets": {},
     "nuid": "c1ca15f3-e417-4a3a-86e5-a09dbe3d9b21",
     "showTitle": false,
     "tableResultSettingsMap": {},
     "title": ""
    }
   },
   "source": [
    "##### Items with most views"
   ]
  },
  {
   "cell_type": "code",
   "execution_count": 0,
   "metadata": {
    "application/vnd.databricks.v1+cell": {
     "cellMetadata": {
      "byteLimit": 2048000,
      "rowLimit": 10000
     },
     "inputWidgets": {},
     "nuid": "4ece8dba-0c90-44ca-86fb-93c1cd031aa5",
     "showTitle": false,
     "tableResultSettingsMap": {},
     "title": ""
    }
   },
   "outputs": [
    {
     "output_type": "display_data",
     "data": {
      "text/html": [
       "<style scoped>\n",
       "  .table-result-container {\n",
       "    max-height: 300px;\n",
       "    overflow: auto;\n",
       "  }\n",
       "  table, th, td {\n",
       "    border: 1px solid black;\n",
       "    border-collapse: collapse;\n",
       "  }\n",
       "  th, td {\n",
       "    padding: 5px;\n",
       "  }\n",
       "  th {\n",
       "    text-align: left;\n",
       "  }\n",
       "</style><div class='table-result-container'><table class='table-result'><thead style='background-color: white'><tr><th>item_id</th><th>viewCount</th></tr></thead><tbody><tr><td>187946</td><td>3403</td></tr></tbody></table></div>"
      ]
     },
     "metadata": {
      "application/vnd.databricks.v1+output": {
       "addedWidgets": {},
       "aggData": [],
       "aggError": "",
       "aggOverflow": false,
       "aggSchema": [],
       "aggSeriesLimitReached": false,
       "aggType": "",
       "arguments": {},
       "columnCustomDisplayInfos": {},
       "data": [
        [
         187946,
         3403
        ]
       ],
       "datasetInfos": [
        {
         "name": "_sqldf",
         "schema": {
          "fields": [
           {
            "metadata": {},
            "name": "item_id",
            "nullable": true,
            "type": "integer"
           },
           {
            "metadata": {},
            "name": "viewCount",
            "nullable": false,
            "type": "long"
           }
          ],
          "type": "struct"
         },
         "tableIdentifier": null,
         "typeStr": "pyspark.sql.connect.dataframe.DataFrame"
        }
       ],
       "dbfsResultPath": null,
       "isJsonSchema": true,
       "metadata": {
        "createTempViewForImplicitDf": true,
        "dataframeName": "_sqldf",
        "executionCount": 211
       },
       "overflow": false,
       "plotOptions": {
        "customPlotOptions": {},
        "displayType": "table",
        "pivotAggregation": null,
        "pivotColumns": null,
        "xColumns": null,
        "yColumns": null
       },
       "removedWidgets": [],
       "schema": [
        {
         "metadata": "{}",
         "name": "item_id",
         "type": "\"integer\""
        },
        {
         "metadata": "{}",
         "name": "viewCount",
         "type": "\"long\""
        }
       ],
       "type": "table"
      }
     },
     "output_type": "display_data"
    }
   ],
   "source": [
    "SELECT item.itemid as item_id, count(*) as viewCount\n",
    "FROM\n",
    "workspace.default.fact_events f \n",
    "JOIN workspace.default.dim_event ev ON f.event_sk = ev.event_sk and ev.event = 'view'\n",
    "JOIN workspace.default.dim_item item ON item.item_sk = f.item_sk\n",
    "GROUP BY item.itemid\n",
    "ORDER BY viewCount DESC\n",
    "limit 1"
   ]
  },
  {
   "cell_type": "markdown",
   "metadata": {
    "application/vnd.databricks.v1+cell": {
     "cellMetadata": {},
     "inputWidgets": {},
     "nuid": "b70a1ace-97f2-4fd5-8a43-5537b171338d",
     "showTitle": false,
     "tableResultSettingsMap": {},
     "title": ""
    }
   },
   "source": [
    "##### Active users by day"
   ]
  },
  {
   "cell_type": "code",
   "execution_count": 0,
   "metadata": {
    "application/vnd.databricks.v1+cell": {
     "cellMetadata": {
      "byteLimit": 2048000,
      "rowLimit": 10000
     },
     "inputWidgets": {},
     "nuid": "567a8171-0621-4ec5-9206-95517b75fc58",
     "showTitle": false,
     "tableResultSettingsMap": {},
     "title": ""
    }
   },
   "outputs": [
    {
     "output_type": "display_data",
     "data": {
      "text/html": [
       "<style scoped>\n",
       "  .table-result-container {\n",
       "    max-height: 300px;\n",
       "    overflow: auto;\n",
       "  }\n",
       "  table, th, td {\n",
       "    border: 1px solid black;\n",
       "    border-collapse: collapse;\n",
       "  }\n",
       "  th, td {\n",
       "    padding: 5px;\n",
       "  }\n",
       "  th {\n",
       "    text-align: left;\n",
       "  }\n",
       "</style><div class='table-result-container'><table class='table-result'><thead style='background-color: white'><tr><th>event_date</th><th>daily_active_users</th></tr></thead><tbody><tr><td>2015-06-03</td><td>13414</td></tr><tr><td>2015-06-04</td><td>13088</td></tr><tr><td>2015-06-05</td><td>12137</td></tr><tr><td>2015-06-06</td><td>9698</td></tr><tr><td>2015-06-07</td><td>9423</td></tr><tr><td>2015-06-08</td><td>12521</td></tr><tr><td>2015-06-09</td><td>13684</td></tr><tr><td>2015-06-10</td><td>13995</td></tr><tr><td>2015-06-11</td><td>12387</td></tr><tr><td>2015-06-12</td><td>9281</td></tr><tr><td>2015-06-13</td><td>7465</td></tr><tr><td>2015-06-14</td><td>8406</td></tr><tr><td>2015-06-15</td><td>12558</td></tr><tr><td>2015-06-16</td><td>13653</td></tr><tr><td>2015-06-17</td><td>13392</td></tr><tr><td>2015-06-18</td><td>13113</td></tr><tr><td>2015-06-19</td><td>11504</td></tr><tr><td>2015-06-20</td><td>8818</td></tr><tr><td>2015-06-21</td><td>9337</td></tr><tr><td>2015-06-22</td><td>12834</td></tr><tr><td>2015-06-23</td><td>13098</td></tr><tr><td>2015-06-24</td><td>12451</td></tr><tr><td>2015-06-25</td><td>11793</td></tr><tr><td>2015-06-26</td><td>11734</td></tr><tr><td>2015-06-27</td><td>9098</td></tr><tr><td>2015-06-28</td><td>10131</td></tr><tr><td>2015-06-29</td><td>13190</td></tr><tr><td>2015-06-30</td><td>12569</td></tr><tr><td>2015-07-01</td><td>12157</td></tr><tr><td>2015-07-02</td><td>12460</td></tr><tr><td>2015-07-03</td><td>11860</td></tr><tr><td>2015-07-04</td><td>9310</td></tr><tr><td>2015-07-05</td><td>9193</td></tr><tr><td>2015-07-06</td><td>12779</td></tr><tr><td>2015-07-07</td><td>13732</td></tr><tr><td>2015-07-08</td><td>14162</td></tr><tr><td>2015-07-09</td><td>14063</td></tr><tr><td>2015-07-10</td><td>14140</td></tr><tr><td>2015-07-11</td><td>14596</td></tr><tr><td>2015-07-12</td><td>14699</td></tr><tr><td>2015-07-13</td><td>16515</td></tr><tr><td>2015-07-14</td><td>16306</td></tr><tr><td>2015-07-15</td><td>14932</td></tr><tr><td>2015-07-16</td><td>13005</td></tr><tr><td>2015-07-17</td><td>12840</td></tr><tr><td>2015-07-18</td><td>10102</td></tr><tr><td>2015-07-19</td><td>10473</td></tr><tr><td>2015-07-20</td><td>15288</td></tr><tr><td>2015-07-21</td><td>14212</td></tr><tr><td>2015-07-22</td><td>13303</td></tr><tr><td>2015-07-23</td><td>13001</td></tr><tr><td>2015-07-24</td><td>14541</td></tr><tr><td>2015-07-25</td><td>15571</td></tr><tr><td>2015-07-26</td><td>17516</td></tr><tr><td>2015-07-27</td><td>16015</td></tr><tr><td>2015-07-28</td><td>13189</td></tr><tr><td>2015-07-29</td><td>14113</td></tr><tr><td>2015-07-30</td><td>12737</td></tr><tr><td>2015-07-31</td><td>11771</td></tr><tr><td>2015-08-01</td><td>9947</td></tr><tr><td>2015-08-02</td><td>9533</td></tr><tr><td>2015-08-03</td><td>13066</td></tr><tr><td>2015-08-04</td><td>12795</td></tr><tr><td>2015-08-05</td><td>12675</td></tr><tr><td>2015-08-06</td><td>12984</td></tr><tr><td>2015-08-07</td><td>11851</td></tr><tr><td>2015-08-08</td><td>8272</td></tr><tr><td>2015-08-09</td><td>8588</td></tr><tr><td>2015-08-10</td><td>11289</td></tr><tr><td>2015-08-11</td><td>11664</td></tr><tr><td>2015-08-12</td><td>12806</td></tr><tr><td>2015-08-13</td><td>12229</td></tr><tr><td>2015-08-14</td><td>10637</td></tr><tr><td>2015-08-15</td><td>8493</td></tr><tr><td>2015-08-16</td><td>9340</td></tr><tr><td>2015-08-17</td><td>12741</td></tr><tr><td>2015-08-18</td><td>12741</td></tr><tr><td>2015-08-19</td><td>12348</td></tr><tr><td>2015-08-20</td><td>11527</td></tr><tr><td>2015-08-21</td><td>11071</td></tr><tr><td>2015-08-22</td><td>8977</td></tr><tr><td>2015-08-23</td><td>9091</td></tr><tr><td>2015-08-24</td><td>11785</td></tr><tr><td>2015-08-25</td><td>12068</td></tr><tr><td>2015-08-26</td><td>11521</td></tr><tr><td>2015-08-27</td><td>12145</td></tr><tr><td>2015-08-28</td><td>12005</td></tr><tr><td>2015-08-29</td><td>9347</td></tr><tr><td>2015-08-30</td><td>9903</td></tr><tr><td>2015-08-31</td><td>11788</td></tr><tr><td>2015-09-01</td><td>11277</td></tr><tr><td>2015-09-02</td><td>11017</td></tr><tr><td>2015-09-03</td><td>11611</td></tr><tr><td>2015-09-04</td><td>11045</td></tr><tr><td>2015-09-05</td><td>9060</td></tr><tr><td>2015-09-06</td><td>9318</td></tr><tr><td>2015-09-07</td><td>12230</td></tr><tr><td>2015-09-08</td><td>12915</td></tr><tr><td>2015-09-09</td><td>13066</td></tr><tr><td>2015-09-10</td><td>14075</td></tr><tr><td>2015-09-11</td><td>13080</td></tr><tr><td>2015-09-12</td><td>9944</td></tr><tr><td>2015-09-13</td><td>10768</td></tr><tr><td>2015-09-14</td><td>13389</td></tr><tr><td>2015-09-15</td><td>12687</td></tr><tr><td>2015-09-16</td><td>6824</td></tr><tr><td>2015-09-17</td><td>6270</td></tr><tr><td>2015-09-18</td><td>1016</td></tr></tbody></table></div>"
      ]
     },
     "metadata": {
      "application/vnd.databricks.v1+output": {
       "addedWidgets": {},
       "aggData": [],
       "aggError": "",
       "aggOverflow": false,
       "aggSchema": [],
       "aggSeriesLimitReached": false,
       "aggType": "",
       "arguments": {},
       "columnCustomDisplayInfos": {},
       "data": [
        [
         "2015-06-03",
         13414
        ],
        [
         "2015-06-04",
         13088
        ],
        [
         "2015-06-05",
         12137
        ],
        [
         "2015-06-06",
         9698
        ],
        [
         "2015-06-07",
         9423
        ],
        [
         "2015-06-08",
         12521
        ],
        [
         "2015-06-09",
         13684
        ],
        [
         "2015-06-10",
         13995
        ],
        [
         "2015-06-11",
         12387
        ],
        [
         "2015-06-12",
         9281
        ],
        [
         "2015-06-13",
         7465
        ],
        [
         "2015-06-14",
         8406
        ],
        [
         "2015-06-15",
         12558
        ],
        [
         "2015-06-16",
         13653
        ],
        [
         "2015-06-17",
         13392
        ],
        [
         "2015-06-18",
         13113
        ],
        [
         "2015-06-19",
         11504
        ],
        [
         "2015-06-20",
         8818
        ],
        [
         "2015-06-21",
         9337
        ],
        [
         "2015-06-22",
         12834
        ],
        [
         "2015-06-23",
         13098
        ],
        [
         "2015-06-24",
         12451
        ],
        [
         "2015-06-25",
         11793
        ],
        [
         "2015-06-26",
         11734
        ],
        [
         "2015-06-27",
         9098
        ],
        [
         "2015-06-28",
         10131
        ],
        [
         "2015-06-29",
         13190
        ],
        [
         "2015-06-30",
         12569
        ],
        [
         "2015-07-01",
         12157
        ],
        [
         "2015-07-02",
         12460
        ],
        [
         "2015-07-03",
         11860
        ],
        [
         "2015-07-04",
         9310
        ],
        [
         "2015-07-05",
         9193
        ],
        [
         "2015-07-06",
         12779
        ],
        [
         "2015-07-07",
         13732
        ],
        [
         "2015-07-08",
         14162
        ],
        [
         "2015-07-09",
         14063
        ],
        [
         "2015-07-10",
         14140
        ],
        [
         "2015-07-11",
         14596
        ],
        [
         "2015-07-12",
         14699
        ],
        [
         "2015-07-13",
         16515
        ],
        [
         "2015-07-14",
         16306
        ],
        [
         "2015-07-15",
         14932
        ],
        [
         "2015-07-16",
         13005
        ],
        [
         "2015-07-17",
         12840
        ],
        [
         "2015-07-18",
         10102
        ],
        [
         "2015-07-19",
         10473
        ],
        [
         "2015-07-20",
         15288
        ],
        [
         "2015-07-21",
         14212
        ],
        [
         "2015-07-22",
         13303
        ],
        [
         "2015-07-23",
         13001
        ],
        [
         "2015-07-24",
         14541
        ],
        [
         "2015-07-25",
         15571
        ],
        [
         "2015-07-26",
         17516
        ],
        [
         "2015-07-27",
         16015
        ],
        [
         "2015-07-28",
         13189
        ],
        [
         "2015-07-29",
         14113
        ],
        [
         "2015-07-30",
         12737
        ],
        [
         "2015-07-31",
         11771
        ],
        [
         "2015-08-01",
         9947
        ],
        [
         "2015-08-02",
         9533
        ],
        [
         "2015-08-03",
         13066
        ],
        [
         "2015-08-04",
         12795
        ],
        [
         "2015-08-05",
         12675
        ],
        [
         "2015-08-06",
         12984
        ],
        [
         "2015-08-07",
         11851
        ],
        [
         "2015-08-08",
         8272
        ],
        [
         "2015-08-09",
         8588
        ],
        [
         "2015-08-10",
         11289
        ],
        [
         "2015-08-11",
         11664
        ],
        [
         "2015-08-12",
         12806
        ],
        [
         "2015-08-13",
         12229
        ],
        [
         "2015-08-14",
         10637
        ],
        [
         "2015-08-15",
         8493
        ],
        [
         "2015-08-16",
         9340
        ],
        [
         "2015-08-17",
         12741
        ],
        [
         "2015-08-18",
         12741
        ],
        [
         "2015-08-19",
         12348
        ],
        [
         "2015-08-20",
         11527
        ],
        [
         "2015-08-21",
         11071
        ],
        [
         "2015-08-22",
         8977
        ],
        [
         "2015-08-23",
         9091
        ],
        [
         "2015-08-24",
         11785
        ],
        [
         "2015-08-25",
         12068
        ],
        [
         "2015-08-26",
         11521
        ],
        [
         "2015-08-27",
         12145
        ],
        [
         "2015-08-28",
         12005
        ],
        [
         "2015-08-29",
         9347
        ],
        [
         "2015-08-30",
         9903
        ],
        [
         "2015-08-31",
         11788
        ],
        [
         "2015-09-01",
         11277
        ],
        [
         "2015-09-02",
         11017
        ],
        [
         "2015-09-03",
         11611
        ],
        [
         "2015-09-04",
         11045
        ],
        [
         "2015-09-05",
         9060
        ],
        [
         "2015-09-06",
         9318
        ],
        [
         "2015-09-07",
         12230
        ],
        [
         "2015-09-08",
         12915
        ],
        [
         "2015-09-09",
         13066
        ],
        [
         "2015-09-10",
         14075
        ],
        [
         "2015-09-11",
         13080
        ],
        [
         "2015-09-12",
         9944
        ],
        [
         "2015-09-13",
         10768
        ],
        [
         "2015-09-14",
         13389
        ],
        [
         "2015-09-15",
         12687
        ],
        [
         "2015-09-16",
         6824
        ],
        [
         "2015-09-17",
         6270
        ],
        [
         "2015-09-18",
         1016
        ]
       ],
       "datasetInfos": [
        {
         "name": "_sqldf",
         "schema": {
          "fields": [
           {
            "metadata": {},
            "name": "event_date",
            "nullable": true,
            "type": "date"
           },
           {
            "metadata": {},
            "name": "daily_active_users",
            "nullable": false,
            "type": "long"
           }
          ],
          "type": "struct"
         },
         "tableIdentifier": null,
         "typeStr": "pyspark.sql.connect.dataframe.DataFrame"
        }
       ],
       "dbfsResultPath": null,
       "isJsonSchema": true,
       "metadata": {
        "createTempViewForImplicitDf": true,
        "dataframeName": "_sqldf",
        "executionCount": 227
       },
       "overflow": false,
       "plotOptions": {
        "customPlotOptions": {},
        "displayType": "table",
        "pivotAggregation": null,
        "pivotColumns": null,
        "xColumns": null,
        "yColumns": null
       },
       "removedWidgets": [],
       "schema": [
        {
         "metadata": "{}",
         "name": "event_date",
         "type": "\"date\""
        },
        {
         "metadata": "{}",
         "name": "daily_active_users",
         "type": "\"long\""
        }
       ],
       "type": "table"
      }
     },
     "output_type": "display_data"
    }
   ],
   "source": [
    "SELECT \n",
    "  event_date,\n",
    "  COUNT(DISTINCT user_sk) AS daily_active_users\n",
    "FROM workspace.default.fact_events\n",
    "GROUP BY event_date\n",
    "ORDER BY event_date;"
   ]
  }
 ],
 "metadata": {
  "application/vnd.databricks.v1+notebook": {
   "computePreferences": null,
   "dashboards": [],
   "environmentMetadata": {
    "base_environment": "",
    "environment_version": "2"
   },
   "inputWidgetPreferences": null,
   "language": "sql",
   "notebookMetadata": {
    "pythonIndentUnit": 4
   },
   "notebookName": "E-Commerce Analytics Pipeline",
   "widgets": {}
  },
  "language_info": {
   "name": "sql"
  }
 },
 "nbformat": 4,
 "nbformat_minor": 0
}